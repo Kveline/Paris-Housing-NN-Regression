{
  "nbformat": 4,
  "nbformat_minor": 0,
  "metadata": {
    "colab": {
      "provenance": []
    },
    "kernelspec": {
      "name": "python3",
      "display_name": "Python 3"
    },
    "language_info": {
      "name": "python"
    }
  },
  "cells": [
    {
      "cell_type": "markdown",
      "source": [
        "## Preprocessing data"
      ],
      "metadata": {
        "id": "N5_JLRMy-aEt"
      }
    },
    {
      "cell_type": "markdown",
      "source": [
        "[Dataset](https://www.kaggle.com/datasets/mssmartypants/paris-housing-price-prediction?resource=download)"
      ],
      "metadata": {
        "id": "8xWH9pILXqQH"
      }
    },
    {
      "cell_type": "code",
      "execution_count": 2,
      "metadata": {
        "colab": {
          "base_uri": "https://localhost:8080/",
          "height": 270
        },
        "id": "mRYNgwIR8_kb",
        "outputId": "76b990d0-28da-4e09-d8d8-9187d3736ce5"
      },
      "outputs": [
        {
          "output_type": "execute_result",
          "data": {
            "text/plain": [
              "   squareMeters  numberOfRooms  hasYard  hasPool  floors  cityCode  \\\n",
              "0         75523              3        0        1      63      9373   \n",
              "1         80771             39        1        1      98     39381   \n",
              "2         55712             58        0        1      19     34457   \n",
              "3         32316             47        0        0       6     27939   \n",
              "4         70429             19        1        1      90     38045   \n",
              "\n",
              "   cityPartRange  numPrevOwners  made  isNewBuilt  hasStormProtector  \\\n",
              "0              3              8  2005           0                  1   \n",
              "1              8              6  2015           1                  0   \n",
              "2              6              8  2021           0                  0   \n",
              "3             10              4  2012           0                  1   \n",
              "4              3              7  1990           1                  0   \n",
              "\n",
              "   basement  attic  garage  hasStorageRoom  hasGuestRoom      price  \n",
              "0      4313   9005     956               0             7  7559081.5  \n",
              "1      3653   2436     128               1             2  8085989.5  \n",
              "2      2937   8852     135               1             9  5574642.1  \n",
              "3       659   7141     359               0             3  3232561.2  \n",
              "4      8435   2429     292               1             4  7055052.0  "
            ],
            "text/html": [
              "\n",
              "  <div id=\"df-f4e2e05d-dc46-4f07-b522-c967833669fe\">\n",
              "    <div class=\"colab-df-container\">\n",
              "      <div>\n",
              "<style scoped>\n",
              "    .dataframe tbody tr th:only-of-type {\n",
              "        vertical-align: middle;\n",
              "    }\n",
              "\n",
              "    .dataframe tbody tr th {\n",
              "        vertical-align: top;\n",
              "    }\n",
              "\n",
              "    .dataframe thead th {\n",
              "        text-align: right;\n",
              "    }\n",
              "</style>\n",
              "<table border=\"1\" class=\"dataframe\">\n",
              "  <thead>\n",
              "    <tr style=\"text-align: right;\">\n",
              "      <th></th>\n",
              "      <th>squareMeters</th>\n",
              "      <th>numberOfRooms</th>\n",
              "      <th>hasYard</th>\n",
              "      <th>hasPool</th>\n",
              "      <th>floors</th>\n",
              "      <th>cityCode</th>\n",
              "      <th>cityPartRange</th>\n",
              "      <th>numPrevOwners</th>\n",
              "      <th>made</th>\n",
              "      <th>isNewBuilt</th>\n",
              "      <th>hasStormProtector</th>\n",
              "      <th>basement</th>\n",
              "      <th>attic</th>\n",
              "      <th>garage</th>\n",
              "      <th>hasStorageRoom</th>\n",
              "      <th>hasGuestRoom</th>\n",
              "      <th>price</th>\n",
              "    </tr>\n",
              "  </thead>\n",
              "  <tbody>\n",
              "    <tr>\n",
              "      <th>0</th>\n",
              "      <td>75523</td>\n",
              "      <td>3</td>\n",
              "      <td>0</td>\n",
              "      <td>1</td>\n",
              "      <td>63</td>\n",
              "      <td>9373</td>\n",
              "      <td>3</td>\n",
              "      <td>8</td>\n",
              "      <td>2005</td>\n",
              "      <td>0</td>\n",
              "      <td>1</td>\n",
              "      <td>4313</td>\n",
              "      <td>9005</td>\n",
              "      <td>956</td>\n",
              "      <td>0</td>\n",
              "      <td>7</td>\n",
              "      <td>7559081.5</td>\n",
              "    </tr>\n",
              "    <tr>\n",
              "      <th>1</th>\n",
              "      <td>80771</td>\n",
              "      <td>39</td>\n",
              "      <td>1</td>\n",
              "      <td>1</td>\n",
              "      <td>98</td>\n",
              "      <td>39381</td>\n",
              "      <td>8</td>\n",
              "      <td>6</td>\n",
              "      <td>2015</td>\n",
              "      <td>1</td>\n",
              "      <td>0</td>\n",
              "      <td>3653</td>\n",
              "      <td>2436</td>\n",
              "      <td>128</td>\n",
              "      <td>1</td>\n",
              "      <td>2</td>\n",
              "      <td>8085989.5</td>\n",
              "    </tr>\n",
              "    <tr>\n",
              "      <th>2</th>\n",
              "      <td>55712</td>\n",
              "      <td>58</td>\n",
              "      <td>0</td>\n",
              "      <td>1</td>\n",
              "      <td>19</td>\n",
              "      <td>34457</td>\n",
              "      <td>6</td>\n",
              "      <td>8</td>\n",
              "      <td>2021</td>\n",
              "      <td>0</td>\n",
              "      <td>0</td>\n",
              "      <td>2937</td>\n",
              "      <td>8852</td>\n",
              "      <td>135</td>\n",
              "      <td>1</td>\n",
              "      <td>9</td>\n",
              "      <td>5574642.1</td>\n",
              "    </tr>\n",
              "    <tr>\n",
              "      <th>3</th>\n",
              "      <td>32316</td>\n",
              "      <td>47</td>\n",
              "      <td>0</td>\n",
              "      <td>0</td>\n",
              "      <td>6</td>\n",
              "      <td>27939</td>\n",
              "      <td>10</td>\n",
              "      <td>4</td>\n",
              "      <td>2012</td>\n",
              "      <td>0</td>\n",
              "      <td>1</td>\n",
              "      <td>659</td>\n",
              "      <td>7141</td>\n",
              "      <td>359</td>\n",
              "      <td>0</td>\n",
              "      <td>3</td>\n",
              "      <td>3232561.2</td>\n",
              "    </tr>\n",
              "    <tr>\n",
              "      <th>4</th>\n",
              "      <td>70429</td>\n",
              "      <td>19</td>\n",
              "      <td>1</td>\n",
              "      <td>1</td>\n",
              "      <td>90</td>\n",
              "      <td>38045</td>\n",
              "      <td>3</td>\n",
              "      <td>7</td>\n",
              "      <td>1990</td>\n",
              "      <td>1</td>\n",
              "      <td>0</td>\n",
              "      <td>8435</td>\n",
              "      <td>2429</td>\n",
              "      <td>292</td>\n",
              "      <td>1</td>\n",
              "      <td>4</td>\n",
              "      <td>7055052.0</td>\n",
              "    </tr>\n",
              "  </tbody>\n",
              "</table>\n",
              "</div>\n",
              "      <button class=\"colab-df-convert\" onclick=\"convertToInteractive('df-f4e2e05d-dc46-4f07-b522-c967833669fe')\"\n",
              "              title=\"Convert this dataframe to an interactive table.\"\n",
              "              style=\"display:none;\">\n",
              "        \n",
              "  <svg xmlns=\"http://www.w3.org/2000/svg\" height=\"24px\"viewBox=\"0 0 24 24\"\n",
              "       width=\"24px\">\n",
              "    <path d=\"M0 0h24v24H0V0z\" fill=\"none\"/>\n",
              "    <path d=\"M18.56 5.44l.94 2.06.94-2.06 2.06-.94-2.06-.94-.94-2.06-.94 2.06-2.06.94zm-11 1L8.5 8.5l.94-2.06 2.06-.94-2.06-.94L8.5 2.5l-.94 2.06-2.06.94zm10 10l.94 2.06.94-2.06 2.06-.94-2.06-.94-.94-2.06-.94 2.06-2.06.94z\"/><path d=\"M17.41 7.96l-1.37-1.37c-.4-.4-.92-.59-1.43-.59-.52 0-1.04.2-1.43.59L10.3 9.45l-7.72 7.72c-.78.78-.78 2.05 0 2.83L4 21.41c.39.39.9.59 1.41.59.51 0 1.02-.2 1.41-.59l7.78-7.78 2.81-2.81c.8-.78.8-2.07 0-2.86zM5.41 20L4 18.59l7.72-7.72 1.47 1.35L5.41 20z\"/>\n",
              "  </svg>\n",
              "      </button>\n",
              "      \n",
              "  <style>\n",
              "    .colab-df-container {\n",
              "      display:flex;\n",
              "      flex-wrap:wrap;\n",
              "      gap: 12px;\n",
              "    }\n",
              "\n",
              "    .colab-df-convert {\n",
              "      background-color: #E8F0FE;\n",
              "      border: none;\n",
              "      border-radius: 50%;\n",
              "      cursor: pointer;\n",
              "      display: none;\n",
              "      fill: #1967D2;\n",
              "      height: 32px;\n",
              "      padding: 0 0 0 0;\n",
              "      width: 32px;\n",
              "    }\n",
              "\n",
              "    .colab-df-convert:hover {\n",
              "      background-color: #E2EBFA;\n",
              "      box-shadow: 0px 1px 2px rgba(60, 64, 67, 0.3), 0px 1px 3px 1px rgba(60, 64, 67, 0.15);\n",
              "      fill: #174EA6;\n",
              "    }\n",
              "\n",
              "    [theme=dark] .colab-df-convert {\n",
              "      background-color: #3B4455;\n",
              "      fill: #D2E3FC;\n",
              "    }\n",
              "\n",
              "    [theme=dark] .colab-df-convert:hover {\n",
              "      background-color: #434B5C;\n",
              "      box-shadow: 0px 1px 3px 1px rgba(0, 0, 0, 0.15);\n",
              "      filter: drop-shadow(0px 1px 2px rgba(0, 0, 0, 0.3));\n",
              "      fill: #FFFFFF;\n",
              "    }\n",
              "  </style>\n",
              "\n",
              "      <script>\n",
              "        const buttonEl =\n",
              "          document.querySelector('#df-f4e2e05d-dc46-4f07-b522-c967833669fe button.colab-df-convert');\n",
              "        buttonEl.style.display =\n",
              "          google.colab.kernel.accessAllowed ? 'block' : 'none';\n",
              "\n",
              "        async function convertToInteractive(key) {\n",
              "          const element = document.querySelector('#df-f4e2e05d-dc46-4f07-b522-c967833669fe');\n",
              "          const dataTable =\n",
              "            await google.colab.kernel.invokeFunction('convertToInteractive',\n",
              "                                                     [key], {});\n",
              "          if (!dataTable) return;\n",
              "\n",
              "          const docLinkHtml = 'Like what you see? Visit the ' +\n",
              "            '<a target=\"_blank\" href=https://colab.research.google.com/notebooks/data_table.ipynb>data table notebook</a>'\n",
              "            + ' to learn more about interactive tables.';\n",
              "          element.innerHTML = '';\n",
              "          dataTable['output_type'] = 'display_data';\n",
              "          await google.colab.output.renderOutput(dataTable, element);\n",
              "          const docLink = document.createElement('div');\n",
              "          docLink.innerHTML = docLinkHtml;\n",
              "          element.appendChild(docLink);\n",
              "        }\n",
              "      </script>\n",
              "    </div>\n",
              "  </div>\n",
              "  "
            ]
          },
          "metadata": {},
          "execution_count": 2
        }
      ],
      "source": [
        "import pandas as pd\n",
        "import matplotlib.pyplot as plt\n",
        "import tensorflow as tf\n",
        "\n",
        "# read data\n",
        "data = pd.read_csv(\"/content/ParisHousing.csv\")\n",
        "data.head()"
      ]
    },
    {
      "cell_type": "code",
      "source": [
        "import numpy as np\n",
        "from sklearn.compose import make_column_transformer\n",
        "from sklearn.preprocessing import MinMaxScaler, OneHotEncoder\n",
        "from sklearn.model_selection import train_test_split\n",
        "\n",
        "\n",
        "# create column transformer\n",
        "ct = make_column_transformer(\n",
        "    (MinMaxScaler(), [\"squareMeters\", \"numberOfRooms\", \"floors\", \"cityPartRange\", \"numPrevOwners\", \"made\", \"basement\", \"attic\", \"garage\", \"hasGuestRoom\"]),\n",
        "    (OneHotEncoder(handle_unknown = \"ignore\"), [\"hasYard\", \"hasPool\", \"isNewBuilt\", \"hasStormProtector\", \"hasStorageRoom\"])\n",
        ")\n",
        "\n",
        "# create X and y value\n",
        "X = data.drop(\"price\", axis = 1)\n",
        "y = data[\"price\"]\n",
        "\n",
        "# train test split \n",
        "X_train, X_test, y_train, y_test = train_test_split(X, y, test_size = 0.2, random_state = 42)\n",
        "\n",
        "# fit the column transformer\n",
        "ct.fit(X_train)\n",
        "\n",
        "# transform training and test data\n",
        "X_train_normal = ct.transform(X_train)\n",
        "X_test_normal = ct.transform(X_test)"
      ],
      "metadata": {
        "id": "kp89-IDJ-gAA"
      },
      "execution_count": 3,
      "outputs": []
    },
    {
      "cell_type": "code",
      "source": [
        "X_train_normal[0]"
      ],
      "metadata": {
        "colab": {
          "base_uri": "https://localhost:8080/"
        },
        "id": "Yk78-m3xDGFV",
        "outputId": "ba79528d-19ea-43f6-d166-c3f5cec3e642"
      },
      "execution_count": 4,
      "outputs": [
        {
          "output_type": "execute_result",
          "data": {
            "text/plain": [
              "array([0.81553729, 0.56565657, 0.01010101, 0.66666667, 0.        ,\n",
              "       0.        , 0.61916192, 0.99689969, 0.70666667, 0.2       ,\n",
              "       1.        , 0.        , 0.        , 1.        , 1.        ,\n",
              "       0.        , 1.        , 0.        , 0.        , 1.        ])"
            ]
          },
          "metadata": {},
          "execution_count": 4
        }
      ]
    },
    {
      "cell_type": "code",
      "source": [
        "X_test_normal[0]"
      ],
      "metadata": {
        "colab": {
          "base_uri": "https://localhost:8080/"
        },
        "id": "DLz2tzRhDIFI",
        "outputId": "cdc2ffb4-97c8-48f6-922b-051b761f21a5"
      },
      "execution_count": 5,
      "outputs": [
        {
          "output_type": "execute_result",
          "data": {
            "text/plain": [
              "array([0.79573015, 0.06060606, 0.60606061, 0.77777778, 0.11111111,\n",
              "       0.19354839, 0.33713371, 0.76027603, 0.88444444, 0.1       ,\n",
              "       0.        , 1.        , 1.        , 0.        , 0.        ,\n",
              "       1.        , 0.        , 1.        , 0.        , 1.        ])"
            ]
          },
          "metadata": {},
          "execution_count": 5
        }
      ]
    },
    {
      "cell_type": "markdown",
      "source": [
        "## Build a neural network"
      ],
      "metadata": {
        "id": "nJIGqmcyDM1f"
      }
    },
    {
      "cell_type": "code",
      "source": [
        "# create the model\n",
        "model = tf.keras.Sequential([\n",
        "    tf.keras.layers.Dense(100),\n",
        "    tf.keras.layers.Dense(50),\n",
        "    tf.keras.layers.Dense(10),\n",
        "    tf.keras.layers.Dense(1)\n",
        "])\n",
        "\n",
        "# compile\n",
        "model.compile(loss = tf.keras.losses.mae,\n",
        "              optimizer = tf.keras.optimizers.Adam(),\n",
        "              metrics = [\"mae\"])\n",
        "\n",
        "# fit\n",
        "model.fit(X_train_normal, y_train, epochs = 100)"
      ],
      "metadata": {
        "colab": {
          "base_uri": "https://localhost:8080/"
        },
        "id": "bIHZ0K0kDPG4",
        "outputId": "c8ae515f-d901-4c4d-856c-771b919f1d63"
      },
      "execution_count": 6,
      "outputs": [
        {
          "output_type": "stream",
          "name": "stdout",
          "text": [
            "Epoch 1/100\n",
            "250/250 [==============================] - 2s 2ms/step - loss: 4955115.5000 - mae: 4955115.5000\n",
            "Epoch 2/100\n",
            "250/250 [==============================] - 0s 2ms/step - loss: 4651973.5000 - mae: 4651973.5000\n",
            "Epoch 3/100\n",
            "250/250 [==============================] - 0s 2ms/step - loss: 3390045.5000 - mae: 3390045.5000\n",
            "Epoch 4/100\n",
            "250/250 [==============================] - 0s 2ms/step - loss: 2428244.2500 - mae: 2428244.2500\n",
            "Epoch 5/100\n",
            "250/250 [==============================] - 0s 2ms/step - loss: 2335861.2500 - mae: 2335861.2500\n",
            "Epoch 6/100\n",
            "250/250 [==============================] - 0s 2ms/step - loss: 2314878.0000 - mae: 2314878.0000\n",
            "Epoch 7/100\n",
            "250/250 [==============================] - 0s 2ms/step - loss: 2294227.0000 - mae: 2294227.0000\n",
            "Epoch 8/100\n",
            "250/250 [==============================] - 1s 2ms/step - loss: 2272655.2500 - mae: 2272655.2500\n",
            "Epoch 9/100\n",
            "250/250 [==============================] - 1s 3ms/step - loss: 2249459.2500 - mae: 2249459.2500\n",
            "Epoch 10/100\n",
            "250/250 [==============================] - 1s 3ms/step - loss: 2225744.7500 - mae: 2225744.7500\n",
            "Epoch 11/100\n",
            "250/250 [==============================] - 1s 3ms/step - loss: 2199307.0000 - mae: 2199307.0000\n",
            "Epoch 12/100\n",
            "250/250 [==============================] - 1s 2ms/step - loss: 2170967.0000 - mae: 2170967.0000\n",
            "Epoch 13/100\n",
            "250/250 [==============================] - 0s 2ms/step - loss: 2139407.7500 - mae: 2139407.7500\n",
            "Epoch 14/100\n",
            "250/250 [==============================] - 0s 2ms/step - loss: 2103486.7500 - mae: 2103486.7500\n",
            "Epoch 15/100\n",
            "250/250 [==============================] - 0s 2ms/step - loss: 2064069.0000 - mae: 2064069.0000\n",
            "Epoch 16/100\n",
            "250/250 [==============================] - 0s 2ms/step - loss: 2017406.3750 - mae: 2017406.3750\n",
            "Epoch 17/100\n",
            "250/250 [==============================] - 0s 2ms/step - loss: 1962490.8750 - mae: 1962490.8750\n",
            "Epoch 18/100\n",
            "250/250 [==============================] - 0s 2ms/step - loss: 1896189.0000 - mae: 1896189.0000\n",
            "Epoch 19/100\n",
            "250/250 [==============================] - 0s 2ms/step - loss: 1812317.1250 - mae: 1812317.1250\n",
            "Epoch 20/100\n",
            "250/250 [==============================] - 0s 2ms/step - loss: 1706175.0000 - mae: 1706175.0000\n",
            "Epoch 21/100\n",
            "250/250 [==============================] - 0s 2ms/step - loss: 1564752.7500 - mae: 1564752.7500\n",
            "Epoch 22/100\n",
            "250/250 [==============================] - 0s 2ms/step - loss: 1365060.0000 - mae: 1365060.0000\n",
            "Epoch 23/100\n",
            "250/250 [==============================] - 0s 2ms/step - loss: 1072017.6250 - mae: 1072017.6250\n",
            "Epoch 24/100\n",
            "250/250 [==============================] - 0s 2ms/step - loss: 634601.6250 - mae: 634601.6250\n",
            "Epoch 25/100\n",
            "250/250 [==============================] - 0s 2ms/step - loss: 219081.4219 - mae: 219081.4219\n",
            "Epoch 26/100\n",
            "250/250 [==============================] - 0s 2ms/step - loss: 68102.7344 - mae: 68102.7344\n",
            "Epoch 27/100\n",
            "250/250 [==============================] - 1s 2ms/step - loss: 3288.2478 - mae: 3288.2478\n",
            "Epoch 28/100\n",
            "250/250 [==============================] - 0s 2ms/step - loss: 2467.3940 - mae: 2467.3940\n",
            "Epoch 29/100\n",
            "250/250 [==============================] - 0s 2ms/step - loss: 2351.0347 - mae: 2351.0347\n",
            "Epoch 30/100\n",
            "250/250 [==============================] - 0s 2ms/step - loss: 2279.9160 - mae: 2279.9160\n",
            "Epoch 31/100\n",
            "250/250 [==============================] - 0s 2ms/step - loss: 2046.7863 - mae: 2046.7863\n",
            "Epoch 32/100\n",
            "250/250 [==============================] - 0s 2ms/step - loss: 2017.7175 - mae: 2017.7175\n",
            "Epoch 33/100\n",
            "250/250 [==============================] - 0s 2ms/step - loss: 2270.9939 - mae: 2270.9939\n",
            "Epoch 34/100\n",
            "250/250 [==============================] - 1s 2ms/step - loss: 2181.1902 - mae: 2181.1902\n",
            "Epoch 35/100\n",
            "250/250 [==============================] - 1s 2ms/step - loss: 2089.2415 - mae: 2089.2415\n",
            "Epoch 36/100\n",
            "250/250 [==============================] - 1s 3ms/step - loss: 2005.5323 - mae: 2005.5323\n",
            "Epoch 37/100\n",
            "250/250 [==============================] - 1s 3ms/step - loss: 2050.1167 - mae: 2050.1167\n",
            "Epoch 38/100\n",
            "250/250 [==============================] - 1s 3ms/step - loss: 2081.1650 - mae: 2081.1650\n",
            "Epoch 39/100\n",
            "250/250 [==============================] - 0s 2ms/step - loss: 2058.7712 - mae: 2058.7712\n",
            "Epoch 40/100\n",
            "250/250 [==============================] - 0s 2ms/step - loss: 2079.3293 - mae: 2079.3293\n",
            "Epoch 41/100\n",
            "250/250 [==============================] - 0s 2ms/step - loss: 2081.8564 - mae: 2081.8564\n",
            "Epoch 42/100\n",
            "250/250 [==============================] - 0s 2ms/step - loss: 2081.1455 - mae: 2081.1455\n",
            "Epoch 43/100\n",
            "250/250 [==============================] - 0s 2ms/step - loss: 2117.8091 - mae: 2117.8091\n",
            "Epoch 44/100\n",
            "250/250 [==============================] - 0s 2ms/step - loss: 2122.3682 - mae: 2122.3682\n",
            "Epoch 45/100\n",
            "250/250 [==============================] - 0s 2ms/step - loss: 2161.5227 - mae: 2161.5227\n",
            "Epoch 46/100\n",
            "250/250 [==============================] - 0s 2ms/step - loss: 2051.9067 - mae: 2051.9067\n",
            "Epoch 47/100\n",
            "250/250 [==============================] - 0s 2ms/step - loss: 1992.3223 - mae: 1992.3223\n",
            "Epoch 48/100\n",
            "250/250 [==============================] - 0s 2ms/step - loss: 2090.3242 - mae: 2090.3242\n",
            "Epoch 49/100\n",
            "250/250 [==============================] - 0s 2ms/step - loss: 2144.5864 - mae: 2144.5864\n",
            "Epoch 50/100\n",
            "250/250 [==============================] - 1s 2ms/step - loss: 2133.4104 - mae: 2133.4104\n",
            "Epoch 51/100\n",
            "250/250 [==============================] - 0s 2ms/step - loss: 2377.8418 - mae: 2377.8418\n",
            "Epoch 52/100\n",
            "250/250 [==============================] - 1s 2ms/step - loss: 2112.4658 - mae: 2112.4658\n",
            "Epoch 53/100\n",
            "250/250 [==============================] - 0s 2ms/step - loss: 1971.7203 - mae: 1971.7203\n",
            "Epoch 54/100\n",
            "250/250 [==============================] - 0s 2ms/step - loss: 2123.8015 - mae: 2123.8015\n",
            "Epoch 55/100\n",
            "250/250 [==============================] - 0s 2ms/step - loss: 2213.4653 - mae: 2213.4653\n",
            "Epoch 56/100\n",
            "250/250 [==============================] - 0s 2ms/step - loss: 1926.1498 - mae: 1926.1498\n",
            "Epoch 57/100\n",
            "250/250 [==============================] - 0s 2ms/step - loss: 1878.5275 - mae: 1878.5275\n",
            "Epoch 58/100\n",
            "250/250 [==============================] - 0s 2ms/step - loss: 2067.4033 - mae: 2067.4033\n",
            "Epoch 59/100\n",
            "250/250 [==============================] - 0s 2ms/step - loss: 2273.2354 - mae: 2273.2354\n",
            "Epoch 60/100\n",
            "250/250 [==============================] - 1s 2ms/step - loss: 2100.8677 - mae: 2100.8677\n",
            "Epoch 61/100\n",
            "250/250 [==============================] - 1s 3ms/step - loss: 2188.9712 - mae: 2188.9712\n",
            "Epoch 62/100\n",
            "250/250 [==============================] - 1s 3ms/step - loss: 2118.6479 - mae: 2118.6479\n",
            "Epoch 63/100\n",
            "250/250 [==============================] - 1s 3ms/step - loss: 2087.6206 - mae: 2087.6206\n",
            "Epoch 64/100\n",
            "250/250 [==============================] - 1s 2ms/step - loss: 1917.9941 - mae: 1917.9941\n",
            "Epoch 65/100\n",
            "250/250 [==============================] - 0s 2ms/step - loss: 2040.6329 - mae: 2040.6329\n",
            "Epoch 66/100\n",
            "250/250 [==============================] - 0s 2ms/step - loss: 2145.7249 - mae: 2145.7249\n",
            "Epoch 67/100\n",
            "250/250 [==============================] - 0s 2ms/step - loss: 2027.8445 - mae: 2027.8445\n",
            "Epoch 68/100\n",
            "250/250 [==============================] - 0s 2ms/step - loss: 2022.7183 - mae: 2022.7183\n",
            "Epoch 69/100\n",
            "250/250 [==============================] - 0s 2ms/step - loss: 2103.3342 - mae: 2103.3342\n",
            "Epoch 70/100\n",
            "250/250 [==============================] - 0s 2ms/step - loss: 2144.3589 - mae: 2144.3589\n",
            "Epoch 71/100\n",
            "250/250 [==============================] - 0s 2ms/step - loss: 2060.0610 - mae: 2060.0610\n",
            "Epoch 72/100\n",
            "250/250 [==============================] - 0s 2ms/step - loss: 2090.8679 - mae: 2090.8679\n",
            "Epoch 73/100\n",
            "250/250 [==============================] - 0s 2ms/step - loss: 2062.3931 - mae: 2062.3931\n",
            "Epoch 74/100\n",
            "250/250 [==============================] - 0s 2ms/step - loss: 2299.1965 - mae: 2299.1965\n",
            "Epoch 75/100\n",
            "250/250 [==============================] - 0s 2ms/step - loss: 2058.3586 - mae: 2058.3586\n",
            "Epoch 76/100\n",
            "250/250 [==============================] - 0s 2ms/step - loss: 2127.5959 - mae: 2127.5959\n",
            "Epoch 77/100\n",
            "250/250 [==============================] - 0s 2ms/step - loss: 2133.7471 - mae: 2133.7471\n",
            "Epoch 78/100\n",
            "250/250 [==============================] - 0s 2ms/step - loss: 2063.2700 - mae: 2063.2700\n",
            "Epoch 79/100\n",
            "250/250 [==============================] - 0s 2ms/step - loss: 2019.4559 - mae: 2019.4559\n",
            "Epoch 80/100\n",
            "250/250 [==============================] - 0s 2ms/step - loss: 2177.9473 - mae: 2177.9473\n",
            "Epoch 81/100\n",
            "250/250 [==============================] - 0s 2ms/step - loss: 1991.7079 - mae: 1991.7079\n",
            "Epoch 82/100\n",
            "250/250 [==============================] - 0s 2ms/step - loss: 2161.1487 - mae: 2161.1487\n",
            "Epoch 83/100\n",
            "250/250 [==============================] - 0s 2ms/step - loss: 2056.7793 - mae: 2056.7793\n",
            "Epoch 84/100\n",
            "250/250 [==============================] - 0s 2ms/step - loss: 1843.9891 - mae: 1843.9891\n",
            "Epoch 85/100\n",
            "250/250 [==============================] - 0s 2ms/step - loss: 2121.9058 - mae: 2121.9058\n",
            "Epoch 86/100\n",
            "250/250 [==============================] - 1s 3ms/step - loss: 2318.6501 - mae: 2318.6501\n",
            "Epoch 87/100\n",
            "250/250 [==============================] - 1s 3ms/step - loss: 2009.7568 - mae: 2009.7568\n",
            "Epoch 88/100\n",
            "250/250 [==============================] - 1s 3ms/step - loss: 2020.9999 - mae: 2020.9999\n",
            "Epoch 89/100\n",
            "250/250 [==============================] - 1s 3ms/step - loss: 1993.2959 - mae: 1993.2959\n",
            "Epoch 90/100\n",
            "250/250 [==============================] - 1s 2ms/step - loss: 2177.0654 - mae: 2177.0654\n",
            "Epoch 91/100\n",
            "250/250 [==============================] - 0s 2ms/step - loss: 1971.0520 - mae: 1971.0520\n",
            "Epoch 92/100\n",
            "250/250 [==============================] - 0s 2ms/step - loss: 1983.0405 - mae: 1983.0405\n",
            "Epoch 93/100\n",
            "250/250 [==============================] - 0s 2ms/step - loss: 2136.8691 - mae: 2136.8691\n",
            "Epoch 94/100\n",
            "250/250 [==============================] - 0s 2ms/step - loss: 2056.3003 - mae: 2056.3003\n",
            "Epoch 95/100\n",
            "250/250 [==============================] - 1s 2ms/step - loss: 2428.3794 - mae: 2428.3794\n",
            "Epoch 96/100\n",
            "250/250 [==============================] - 0s 2ms/step - loss: 2291.8140 - mae: 2291.8140\n",
            "Epoch 97/100\n",
            "250/250 [==============================] - 1s 2ms/step - loss: 2102.3611 - mae: 2102.3611\n",
            "Epoch 98/100\n",
            "250/250 [==============================] - 0s 2ms/step - loss: 2041.8275 - mae: 2041.8275\n",
            "Epoch 99/100\n",
            "250/250 [==============================] - 0s 2ms/step - loss: 1915.6041 - mae: 1915.6041\n",
            "Epoch 100/100\n",
            "250/250 [==============================] - 1s 2ms/step - loss: 1947.5728 - mae: 1947.5728\n"
          ]
        },
        {
          "output_type": "execute_result",
          "data": {
            "text/plain": [
              "<keras.callbacks.History at 0x7f6bec96afd0>"
            ]
          },
          "metadata": {},
          "execution_count": 6
        }
      ]
    },
    {
      "cell_type": "code",
      "source": [
        "# evaluate the model\n",
        "model.evaluate(X_test_normal, y_test)"
      ],
      "metadata": {
        "colab": {
          "base_uri": "https://localhost:8080/"
        },
        "id": "_pnnZ_zgEyYB",
        "outputId": "f0b3bae5-5f54-40db-cb54-1df9bbf5cc67"
      },
      "execution_count": 7,
      "outputs": [
        {
          "output_type": "stream",
          "name": "stdout",
          "text": [
            "63/63 [==============================] - 0s 2ms/step - loss: 1843.9484 - mae: 1843.9484\n"
          ]
        },
        {
          "output_type": "execute_result",
          "data": {
            "text/plain": [
              "[1843.9483642578125, 1843.9483642578125]"
            ]
          },
          "metadata": {},
          "execution_count": 7
        }
      ]
    },
    {
      "cell_type": "code",
      "source": [
        "# make some predictions\n",
        "y_pred = model.predict(X_test_normal)\n",
        "y_pred"
      ],
      "metadata": {
        "colab": {
          "base_uri": "https://localhost:8080/"
        },
        "id": "AGiZSNatgvcv",
        "outputId": "7e973850-6a33-41d2-9872-5ee141c61cc6"
      },
      "execution_count": 11,
      "outputs": [
        {
          "output_type": "stream",
          "name": "stdout",
          "text": [
            "63/63 [==============================] - 0s 1ms/step\n"
          ]
        },
        {
          "output_type": "execute_result",
          "data": {
            "text/plain": [
              "array([[7964127. ],\n",
              "       [3715542.5],\n",
              "       [8556301. ],\n",
              "       ...,\n",
              "       [1950049.1],\n",
              "       [2944934.8],\n",
              "       [7044280. ]], dtype=float32)"
            ]
          },
          "metadata": {},
          "execution_count": 11
        }
      ]
    },
    {
      "cell_type": "markdown",
      "source": [
        "## Plotting"
      ],
      "metadata": {
        "id": "MbaEXyMZgeN9"
      }
    },
    {
      "cell_type": "code",
      "source": [
        "def plot_predictions(train_data = X_train_normal[:,0], \n",
        "                     train_labels = y_train,\n",
        "                     test_data = X_test_normal[:,0],\n",
        "                     test_labels = y_test, \n",
        "                     predictions = y_pred):\n",
        "  \"\"\"\n",
        "  Plots training data,test data, and compares to predictions to ground truth labels\n",
        "  \"\"\"\n",
        "  plt.figure(figsize = (15, 14))\n",
        "\n",
        "  # plot test data in green\n",
        "  plt.scatter(test_data, test_labels, c = \"g\", label = \"Test Data\")\n",
        "\n",
        "  # plot predictions in red\n",
        "  plt.scatter(test_data, predictions, c = \"r\", label = \"Predictions\")\n",
        "\n",
        "  # show a legend\n",
        "  plt.legend()"
      ],
      "metadata": {
        "id": "2UiySqGkgf10"
      },
      "execution_count": 16,
      "outputs": []
    },
    {
      "cell_type": "code",
      "source": [
        "plot_predictions()"
      ],
      "metadata": {
        "colab": {
          "base_uri": "https://localhost:8080/",
          "height": 820
        },
        "id": "Ps6KYBqXg4cg",
        "outputId": "a2cba6c0-7f63-4d97-ad39-0a5df713aedb"
      },
      "execution_count": 17,
      "outputs": [
        {
          "output_type": "display_data",
          "data": {
            "text/plain": [
              "<Figure size 1080x1008 with 1 Axes>"
            ],
            "image/png": "[encoded data removed]"
          },
          "metadata": {
            "needs_background": "light"
          }
        }
      ]
    }
  ]
}